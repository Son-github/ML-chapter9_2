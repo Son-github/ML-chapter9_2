{
  "nbformat": 4,
  "nbformat_minor": 0,
  "metadata": {
    "colab": {
      "provenance": [],
      "authorship_tag": "ABX9TyPRQQV+JE9JRN3xHnMX/YXR",
      "include_colab_link": true
    },
    "kernelspec": {
      "name": "python3",
      "display_name": "Python 3"
    },
    "language_info": {
      "name": "python"
    },
    "gpuClass": "standard"
  },
  "cells": [
    {
      "cell_type": "markdown",
      "metadata": {
        "id": "view-in-github",
        "colab_type": "text"
      },
      "source": [
        "<a href=\"https://colab.research.google.com/github/Son-github/ML-chapter9_2/blob/main/chapter9_2.ipynb\" target=\"_parent\"><img src=\"https://colab.research.google.com/assets/colab-badge.svg\" alt=\"Open In Colab\"/></a>"
      ]
    },
    {
      "cell_type": "code",
      "execution_count": null,
      "metadata": {
        "id": "ZbFKFSyLGid-"
      },
      "outputs": [],
      "source": [
        "from tensorflow.keras.datasets import imdb\n",
        "(train_input, train_target), (test_input, test_target) = imdb.load_data(num_words=500) #전체 어휘 사전에 있는 단어를 등장 횟수 순서대로 나열한 다음 가장 많이 등장한 500개의 단어를 선택"
      ]
    },
    {
      "cell_type": "code",
      "source": [
        "print(train_input.shape, test_input.shape)"
      ],
      "metadata": {
        "colab": {
          "base_uri": "https://localhost:8080/"
        },
        "id": "XVIo22zBHcap",
        "outputId": "71287e81-d217-4be8-b059-d3f5a297972a"
      },
      "execution_count": null,
      "outputs": [
        {
          "output_type": "stream",
          "name": "stdout",
          "text": [
            "(25000,) (25000,)\n"
          ]
        }
      ]
    },
    {
      "cell_type": "code",
      "source": [
        "print(train_input[0])"
      ],
      "metadata": {
        "colab": {
          "base_uri": "https://localhost:8080/"
        },
        "id": "j8s7yOCQHo2s",
        "outputId": "09569119-2ff7-4ce4-b65e-97f07feff5db"
      },
      "execution_count": null,
      "outputs": [
        {
          "output_type": "stream",
          "name": "stdout",
          "text": [
            "[1, 14, 22, 16, 43, 2, 2, 2, 2, 65, 458, 2, 66, 2, 4, 173, 36, 256, 5, 25, 100, 43, 2, 112, 50, 2, 2, 9, 35, 480, 284, 5, 150, 4, 172, 112, 167, 2, 336, 385, 39, 4, 172, 2, 2, 17, 2, 38, 13, 447, 4, 192, 50, 16, 6, 147, 2, 19, 14, 22, 4, 2, 2, 469, 4, 22, 71, 87, 12, 16, 43, 2, 38, 76, 15, 13, 2, 4, 22, 17, 2, 17, 12, 16, 2, 18, 2, 5, 62, 386, 12, 8, 316, 8, 106, 5, 4, 2, 2, 16, 480, 66, 2, 33, 4, 130, 12, 16, 38, 2, 5, 25, 124, 51, 36, 135, 48, 25, 2, 33, 6, 22, 12, 215, 28, 77, 52, 5, 14, 407, 16, 82, 2, 8, 4, 107, 117, 2, 15, 256, 4, 2, 7, 2, 5, 2, 36, 71, 43, 2, 476, 26, 400, 317, 46, 7, 4, 2, 2, 13, 104, 88, 4, 381, 15, 297, 98, 32, 2, 56, 26, 141, 6, 194, 2, 18, 4, 226, 22, 21, 134, 476, 26, 480, 5, 144, 30, 2, 18, 51, 36, 28, 224, 92, 25, 104, 4, 226, 65, 16, 38, 2, 88, 12, 16, 283, 5, 16, 2, 113, 103, 32, 15, 16, 2, 19, 178, 32]\n"
          ]
        }
      ]
    },
    {
      "cell_type": "code",
      "source": [
        "print(train_target[:20]) #리뷰가 긍정인지 부정인지를 판단"
      ],
      "metadata": {
        "colab": {
          "base_uri": "https://localhost:8080/"
        },
        "id": "7r8PiNdYHtOw",
        "outputId": "4463e8ef-acb9-4bdb-f042-cff096ffd3e0"
      },
      "execution_count": null,
      "outputs": [
        {
          "output_type": "stream",
          "name": "stdout",
          "text": [
            "[1 0 0 1 0 0 1 0 1 0 1 0 0 0 0 0 1 1 0 1]\n"
          ]
        }
      ]
    },
    {
      "cell_type": "code",
      "source": [
        "from sklearn.model_selection import train_test_split\n",
        "train_input, val_input, train_target, val_target = train_test_split(train_input, train_target, test_size=0.2, random_state=42)"
      ],
      "metadata": {
        "id": "tWyPv5hYIA00"
      },
      "execution_count": null,
      "outputs": []
    },
    {
      "cell_type": "code",
      "source": [
        "import numpy as np\n",
        "lengths = np.array([len(x) for x in train_input]) #array안에 있는 원소들의 갯수를 돌아가면서 저장"
      ],
      "metadata": {
        "id": "GOzF10qwIgnN"
      },
      "execution_count": null,
      "outputs": []
    },
    {
      "cell_type": "code",
      "source": [
        "print(np.mean(lengths), np.median(lengths))"
      ],
      "metadata": {
        "colab": {
          "base_uri": "https://localhost:8080/"
        },
        "id": "rKU1_UflIn0f",
        "outputId": "33a8aaa4-42a9-4e86-d38f-2d4e479c29fe"
      },
      "execution_count": null,
      "outputs": [
        {
          "output_type": "stream",
          "name": "stdout",
          "text": [
            "239.00925 178.0\n"
          ]
        }
      ]
    },
    {
      "cell_type": "code",
      "source": [
        "import matplotlib.pyplot as plt\n",
        "plt.hist(lengths)\n",
        "plt.xlabel('length')\n",
        "plt.ylabel('frequency')\n",
        "plt.show()"
      ],
      "metadata": {
        "colab": {
          "base_uri": "https://localhost:8080/",
          "height": 279
        },
        "id": "2-S-u-dMIszP",
        "outputId": "63ba3a39-cca8-4480-bed9-6b4fde40f075"
      },
      "execution_count": null,
      "outputs": [
        {
          "output_type": "display_data",
          "data": {
            "text/plain": [
              "<Figure size 432x288 with 1 Axes>"
            ],
            "image/png": "[encoded data removed]"
          },
          "metadata": {
            "needs_background": "light"
          }
        }
      ]
    },
    {
      "cell_type": "code",
      "source": [
        "from tensorflow.keras.preprocessing.sequence import pad_sequences\n",
        "train_seq = pad_sequences(train_input, maxlen=100) #pad_sequences() 함수는 시퀸스 데이터의 길이를 맞춰줌. 길이를 맞출 때, 앞 부분부터 짜르는데 그 이유는 뒷 부분의 정보가 더 유용하다고 생각하기 때문. 만약 뒷 부분을 잘라내고 싶다면 매개 변수의 값을 pre가 아닌 post로 바꾸어주면된다."
      ],
      "metadata": {
        "id": "mfFQDPPII6L8"
      },
      "execution_count": null,
      "outputs": []
    },
    {
      "cell_type": "code",
      "source": [
        "print(train_seq.shape)"
      ],
      "metadata": {
        "colab": {
          "base_uri": "https://localhost:8080/"
        },
        "id": "BWvfRDeJJUhs",
        "outputId": "79e6b0aa-d20e-434a-bc5c-3d9ac859a6e6"
      },
      "execution_count": null,
      "outputs": [
        {
          "output_type": "stream",
          "name": "stdout",
          "text": [
            "(20000, 100)\n"
          ]
        }
      ]
    },
    {
      "cell_type": "code",
      "source": [
        "print(train_seq[0])"
      ],
      "metadata": {
        "colab": {
          "base_uri": "https://localhost:8080/"
        },
        "id": "zOLr0tAKJY1b",
        "outputId": "81c1c004-6bb9-43f7-825c-eaf7eaf1c810"
      },
      "execution_count": null,
      "outputs": [
        {
          "output_type": "stream",
          "name": "stdout",
          "text": [
            "[ 10   4  20   9   2 364 352   5  45   6   2   2  33 269   8   2 142   2\n",
            "   5   2  17  73  17 204   5   2  19  55   2   2  92  66 104  14  20  93\n",
            "  76   2 151  33   4  58  12 188   2 151  12 215  69 224 142  73 237   6\n",
            "   2   7   2   2 188   2 103  14  31  10  10 451   7   2   5   2  80  91\n",
            "   2  30   2  34  14  20 151  50  26 131  49   2  84  46  50  37  80  79\n",
            "   6   2  46   7  14  20  10  10 470 158]\n"
          ]
        }
      ]
    },
    {
      "cell_type": "code",
      "source": [
        "print(train_input[0][-10:])"
      ],
      "metadata": {
        "colab": {
          "base_uri": "https://localhost:8080/"
        },
        "id": "VTpz53tuJcJQ",
        "outputId": "c84dc823-3df6-44b3-e581-132bbe961735"
      },
      "execution_count": null,
      "outputs": [
        {
          "output_type": "stream",
          "name": "stdout",
          "text": [
            "[6, 2, 46, 7, 14, 20, 10, 10, 470, 158]\n"
          ]
        }
      ]
    },
    {
      "cell_type": "code",
      "source": [
        "print(train_seq[5])"
      ],
      "metadata": {
        "colab": {
          "base_uri": "https://localhost:8080/"
        },
        "id": "UxTkPa0OJlN0",
        "outputId": "6922bceb-0fc3-4d86-9510-60eb9b542198"
      },
      "execution_count": null,
      "outputs": [
        {
          "output_type": "stream",
          "name": "stdout",
          "text": [
            "[  0   0   0   0   1   2 195  19  49   2   2 190   4   2 352   2 183  10\n",
            "  10  13  82  79   4   2  36  71 269   8   2  25  19  49   7   4   2   2\n",
            "   2   2   2  10  10  48  25  40   2  11   2   2  40   2   2   5   4   2\n",
            "   2  95  14 238  56 129   2  10  10  21   2  94 364 352   2   2  11 190\n",
            "  24 484   2   7  94 205 405  10  10  87   2  34  49   2   7   2   2   2\n",
            "   2   2 290   2  46  48  64  18   4   2]\n"
          ]
        }
      ]
    },
    {
      "cell_type": "code",
      "source": [
        "val_seq = pad_sequences(val_input, maxlen=100)"
      ],
      "metadata": {
        "id": "R6v61rfrJ0zz"
      },
      "execution_count": null,
      "outputs": []
    },
    {
      "cell_type": "code",
      "source": [
        "from tensorflow import keras\n",
        "model = keras.Sequential()\n",
        "model.add(keras.layers.SimpleRNN(8, input_shape=(100, 500))) #SimpleRNN 사용. 활성화 함수의 기본값은 'tanh'임. input_shape의 500은 위 함수에서 500개의 단어만 사용하도록 지정했기 때문에 훈련 데이터에 포함될 수 있는 정숫값의 범위는 0에서 499까지이기 때문에 원-핫 인코딩으로 표현을 하여도 배열의 길이가 500이어야한다.\n",
        "model.add(keras.layers.Dense(1, activation='sigmoid'))"
      ],
      "metadata": {
        "id": "TMZMkDPeJ667"
      },
      "execution_count": null,
      "outputs": []
    },
    {
      "cell_type": "code",
      "source": [
        "train_oh = keras.utils.to_categorical(train_seq) #원-핫 인코딩을 통해 정숫값에 있는 크기 속성을 없애고 각 정수를 교유하게 표현. keras.utils 아래에 있는 to_categorical() 함수는 정수 배열을 입력하면 자동으로 원-핫 인코딩된 배열을 리턴."
      ],
      "metadata": {
        "id": "Pv2ZTE9bKdt2"
      },
      "execution_count": null,
      "outputs": []
    },
    {
      "cell_type": "code",
      "source": [
        "print(train_oh.shape) #(20000, 100) 크기의 train_seq가 (20000, 100, 500)개로 바뀜\n",
        "# 이렇게 샘플 데이터의 크기가 1차원 정수 배열 (100,)에서 2차원 배열(100, 500)으로 바뀌어야 하므로 SimpleRNN 클래스의 input_shape 매개변수의 값을 (100, 500)으로 지정"
      ],
      "metadata": {
        "colab": {
          "base_uri": "https://localhost:8080/"
        },
        "id": "faA2vCQ2Ki4v",
        "outputId": "ce781184-1bc3-47de-85bd-f4f6bfab438a"
      },
      "execution_count": null,
      "outputs": [
        {
          "output_type": "stream",
          "name": "stdout",
          "text": [
            "(20000, 100, 500)\n"
          ]
        }
      ]
    },
    {
      "cell_type": "code",
      "source": [
        "print(train_oh[0][0][:12])"
      ],
      "metadata": {
        "colab": {
          "base_uri": "https://localhost:8080/"
        },
        "id": "Bz3p4jNeKsZc",
        "outputId": "76d037d5-fd3c-4449-df8f-e13b80f96a23"
      },
      "execution_count": null,
      "outputs": [
        {
          "output_type": "stream",
          "name": "stdout",
          "text": [
            "[0. 0. 0. 0. 0. 0. 0. 0. 0. 0. 1. 0.]\n"
          ]
        }
      ]
    },
    {
      "cell_type": "code",
      "source": [
        "print(np.sum(train_oh[0][0]))"
      ],
      "metadata": {
        "colab": {
          "base_uri": "https://localhost:8080/"
        },
        "id": "VNKB0UGhKybl",
        "outputId": "9130e611-8847-4ba1-9b3b-1dccfe7d8804"
      },
      "execution_count": null,
      "outputs": [
        {
          "output_type": "stream",
          "name": "stdout",
          "text": [
            "1.0\n"
          ]
        }
      ]
    },
    {
      "cell_type": "code",
      "source": [
        "val_oh = keras.utils.to_categorical(val_seq)"
      ],
      "metadata": {
        "id": "dOE3FMghK2xS"
      },
      "execution_count": null,
      "outputs": []
    },
    {
      "cell_type": "code",
      "source": [
        "model.summary() #SimpleRNN에 전달할 샘플의 크기는 (100, 500)이지만 이 순환층은 마지막 타임스텝의 은닉 상태만 출력하기 때문에 출력 크기가 순환층의 뉴련 개수와 동일한 8."
      ],
      "metadata": {
        "colab": {
          "base_uri": "https://localhost:8080/"
        },
        "id": "1hbxxYJ7K7YN",
        "outputId": "23c2cfbf-2e69-426f-fccd-dfa7e8e0303d"
      },
      "execution_count": null,
      "outputs": [
        {
          "output_type": "stream",
          "name": "stdout",
          "text": [
            "Model: \"sequential\"\n",
            "_________________________________________________________________\n",
            " Layer (type)                Output Shape              Param #   \n",
            "=================================================================\n",
            " simple_rnn (SimpleRNN)      (None, 8)                 4072      \n",
            "                                                                 \n",
            " dense (Dense)               (None, 1)                 9         \n",
            "                                                                 \n",
            "=================================================================\n",
            "Total params: 4,081\n",
            "Trainable params: 4,081\n",
            "Non-trainable params: 0\n",
            "_________________________________________________________________\n"
          ]
        }
      ]
    },
    {
      "cell_type": "code",
      "source": [
        "rmsprop = keras.optimizers.RMSprop(learning_rate=1e-4) #기본 RMSprop의 학습률 0.001을 사용하지 않기 위해 별도의 RMSprop 객체를 만들어 학습률 0.0001로 지정.\n",
        "model.compile(optimizer=rmsprop, loss='binary_crossentropy', metrics=['accuracy'])\n",
        "checkpoint_cb = keras.callbacks.ModelCheckpoint('best-simplernn-model.h5', save_best_only=True)\n",
        "early_stopping_cb = keras.callbacks.EarlyStopping(patience=3, restore_best_weights=True)\n",
        "history = model.fit(train_oh, train_target, epochs=100, batch_size=64, validation_data=(val_oh, val_target), callbacks=[checkpoint_cb, early_stopping_cb])"
      ],
      "metadata": {
        "colab": {
          "base_uri": "https://localhost:8080/"
        },
        "id": "YWBDsKuGLAr3",
        "outputId": "27b50637-fd97-49bb-9de4-183db9fc96c8"
      },
      "execution_count": null,
      "outputs": [
        {
          "output_type": "stream",
          "name": "stdout",
          "text": [
            "Epoch 1/100\n",
            "313/313 [==============================] - 15s 42ms/step - loss: 0.6974 - accuracy: 0.4983 - val_loss: 0.6963 - val_accuracy: 0.5054\n",
            "Epoch 2/100\n",
            "313/313 [==============================] - 12s 40ms/step - loss: 0.6949 - accuracy: 0.5060 - val_loss: 0.6950 - val_accuracy: 0.5100\n",
            "Epoch 3/100\n",
            "313/313 [==============================] - 15s 47ms/step - loss: 0.6927 - accuracy: 0.5155 - val_loss: 0.6937 - val_accuracy: 0.5130\n",
            "Epoch 4/100\n",
            "313/313 [==============================] - 13s 40ms/step - loss: 0.6908 - accuracy: 0.5235 - val_loss: 0.6925 - val_accuracy: 0.5154\n",
            "Epoch 5/100\n",
            "313/313 [==============================] - 13s 41ms/step - loss: 0.6890 - accuracy: 0.5326 - val_loss: 0.6913 - val_accuracy: 0.5182\n",
            "Epoch 6/100\n",
            "313/313 [==============================] - 13s 40ms/step - loss: 0.6871 - accuracy: 0.5422 - val_loss: 0.6901 - val_accuracy: 0.5286\n",
            "Epoch 7/100\n",
            "313/313 [==============================] - 14s 45ms/step - loss: 0.6851 - accuracy: 0.5527 - val_loss: 0.6888 - val_accuracy: 0.5342\n",
            "Epoch 8/100\n",
            "313/313 [==============================] - 13s 40ms/step - loss: 0.6829 - accuracy: 0.5620 - val_loss: 0.6873 - val_accuracy: 0.5390\n",
            "Epoch 9/100\n",
            "313/313 [==============================] - 13s 40ms/step - loss: 0.6804 - accuracy: 0.5732 - val_loss: 0.6855 - val_accuracy: 0.5492\n",
            "Epoch 10/100\n",
            "313/313 [==============================] - 14s 44ms/step - loss: 0.6775 - accuracy: 0.5832 - val_loss: 0.6831 - val_accuracy: 0.5582\n",
            "Epoch 11/100\n",
            "313/313 [==============================] - 13s 40ms/step - loss: 0.6739 - accuracy: 0.5912 - val_loss: 0.6797 - val_accuracy: 0.5674\n",
            "Epoch 12/100\n",
            "313/313 [==============================] - 14s 45ms/step - loss: 0.6688 - accuracy: 0.6051 - val_loss: 0.6739 - val_accuracy: 0.5856\n",
            "Epoch 13/100\n",
            "313/313 [==============================] - 12s 40ms/step - loss: 0.6586 - accuracy: 0.6265 - val_loss: 0.6581 - val_accuracy: 0.6230\n",
            "Epoch 14/100\n",
            "313/313 [==============================] - 13s 41ms/step - loss: 0.6255 - accuracy: 0.6800 - val_loss: 0.6191 - val_accuracy: 0.6890\n",
            "Epoch 15/100\n",
            "313/313 [==============================] - 13s 41ms/step - loss: 0.6044 - accuracy: 0.7020 - val_loss: 0.6055 - val_accuracy: 0.7034\n",
            "Epoch 16/100\n",
            "313/313 [==============================] - 14s 45ms/step - loss: 0.5896 - accuracy: 0.7161 - val_loss: 0.5956 - val_accuracy: 0.7096\n",
            "Epoch 17/100\n",
            "313/313 [==============================] - 13s 41ms/step - loss: 0.5780 - accuracy: 0.7266 - val_loss: 0.5851 - val_accuracy: 0.7194\n",
            "Epoch 18/100\n",
            "313/313 [==============================] - 13s 41ms/step - loss: 0.5656 - accuracy: 0.7347 - val_loss: 0.5769 - val_accuracy: 0.7186\n",
            "Epoch 19/100\n",
            "313/313 [==============================] - 13s 40ms/step - loss: 0.5548 - accuracy: 0.7440 - val_loss: 0.5678 - val_accuracy: 0.7232\n",
            "Epoch 20/100\n",
            "313/313 [==============================] - 12s 40ms/step - loss: 0.5449 - accuracy: 0.7499 - val_loss: 0.5607 - val_accuracy: 0.7320\n",
            "Epoch 21/100\n",
            "313/313 [==============================] - 14s 44ms/step - loss: 0.5335 - accuracy: 0.7584 - val_loss: 0.5489 - val_accuracy: 0.7350\n",
            "Epoch 22/100\n",
            "313/313 [==============================] - 13s 40ms/step - loss: 0.5232 - accuracy: 0.7632 - val_loss: 0.5370 - val_accuracy: 0.7480\n",
            "Epoch 23/100\n",
            "313/313 [==============================] - 13s 40ms/step - loss: 0.5139 - accuracy: 0.7677 - val_loss: 0.5294 - val_accuracy: 0.7508\n",
            "Epoch 24/100\n",
            "313/313 [==============================] - 13s 40ms/step - loss: 0.5040 - accuracy: 0.7742 - val_loss: 0.5243 - val_accuracy: 0.7532\n",
            "Epoch 25/100\n",
            "313/313 [==============================] - 14s 45ms/step - loss: 0.4965 - accuracy: 0.7771 - val_loss: 0.5173 - val_accuracy: 0.7580\n",
            "Epoch 26/100\n",
            "313/313 [==============================] - 13s 40ms/step - loss: 0.4890 - accuracy: 0.7801 - val_loss: 0.5088 - val_accuracy: 0.7632\n",
            "Epoch 27/100\n",
            "313/313 [==============================] - 12s 40ms/step - loss: 0.4818 - accuracy: 0.7851 - val_loss: 0.5028 - val_accuracy: 0.7670\n",
            "Epoch 28/100\n",
            "313/313 [==============================] - 12s 38ms/step - loss: 0.4744 - accuracy: 0.7901 - val_loss: 0.4981 - val_accuracy: 0.7672\n",
            "Epoch 29/100\n",
            "313/313 [==============================] - 14s 45ms/step - loss: 0.4678 - accuracy: 0.7926 - val_loss: 0.4940 - val_accuracy: 0.7712\n",
            "Epoch 30/100\n",
            "313/313 [==============================] - 14s 44ms/step - loss: 0.4623 - accuracy: 0.7959 - val_loss: 0.4891 - val_accuracy: 0.7718\n",
            "Epoch 31/100\n",
            "313/313 [==============================] - 13s 41ms/step - loss: 0.4569 - accuracy: 0.8001 - val_loss: 0.4897 - val_accuracy: 0.7728\n",
            "Epoch 32/100\n",
            "313/313 [==============================] - 12s 40ms/step - loss: 0.4515 - accuracy: 0.8018 - val_loss: 0.4822 - val_accuracy: 0.7786\n",
            "Epoch 33/100\n",
            "313/313 [==============================] - 12s 40ms/step - loss: 0.4472 - accuracy: 0.8044 - val_loss: 0.4773 - val_accuracy: 0.7788\n",
            "Epoch 34/100\n",
            "313/313 [==============================] - 13s 43ms/step - loss: 0.4424 - accuracy: 0.8067 - val_loss: 0.4756 - val_accuracy: 0.7824\n",
            "Epoch 35/100\n",
            "313/313 [==============================] - 13s 41ms/step - loss: 0.4393 - accuracy: 0.8094 - val_loss: 0.4812 - val_accuracy: 0.7772\n",
            "Epoch 36/100\n",
            "313/313 [==============================] - 12s 39ms/step - loss: 0.4354 - accuracy: 0.8098 - val_loss: 0.4780 - val_accuracy: 0.7792\n",
            "Epoch 37/100\n",
            "313/313 [==============================] - 12s 40ms/step - loss: 0.4319 - accuracy: 0.8120 - val_loss: 0.4663 - val_accuracy: 0.7880\n",
            "Epoch 38/100\n",
            "313/313 [==============================] - 13s 40ms/step - loss: 0.4290 - accuracy: 0.8135 - val_loss: 0.4645 - val_accuracy: 0.7894\n",
            "Epoch 39/100\n",
            "313/313 [==============================] - 14s 45ms/step - loss: 0.4258 - accuracy: 0.8153 - val_loss: 0.4638 - val_accuracy: 0.7904\n",
            "Epoch 40/100\n",
            "313/313 [==============================] - 12s 40ms/step - loss: 0.4231 - accuracy: 0.8166 - val_loss: 0.4624 - val_accuracy: 0.7928\n",
            "Epoch 41/100\n",
            "313/313 [==============================] - 12s 40ms/step - loss: 0.4204 - accuracy: 0.8181 - val_loss: 0.4630 - val_accuracy: 0.7912\n",
            "Epoch 42/100\n",
            "313/313 [==============================] - 13s 43ms/step - loss: 0.4180 - accuracy: 0.8187 - val_loss: 0.4593 - val_accuracy: 0.7920\n",
            "Epoch 43/100\n",
            "313/313 [==============================] - 13s 41ms/step - loss: 0.4158 - accuracy: 0.8217 - val_loss: 0.4595 - val_accuracy: 0.7908\n",
            "Epoch 44/100\n",
            "313/313 [==============================] - 14s 44ms/step - loss: 0.4137 - accuracy: 0.8204 - val_loss: 0.4583 - val_accuracy: 0.7938\n",
            "Epoch 45/100\n",
            "313/313 [==============================] - 13s 40ms/step - loss: 0.4114 - accuracy: 0.8216 - val_loss: 0.4571 - val_accuracy: 0.7918\n",
            "Epoch 46/100\n",
            "313/313 [==============================] - 13s 41ms/step - loss: 0.4095 - accuracy: 0.8224 - val_loss: 0.4572 - val_accuracy: 0.7904\n",
            "Epoch 47/100\n",
            "313/313 [==============================] - 14s 44ms/step - loss: 0.4074 - accuracy: 0.8247 - val_loss: 0.4586 - val_accuracy: 0.7928\n",
            "Epoch 48/100\n",
            "313/313 [==============================] - 14s 44ms/step - loss: 0.4051 - accuracy: 0.8269 - val_loss: 0.4599 - val_accuracy: 0.7928\n"
          ]
        }
      ]
    },
    {
      "cell_type": "code",
      "source": [
        "plt.plot(history.history['loss'])\n",
        "plt.plot(history.history['val_loss'])\n",
        "plt.xlabel('epoch')\n",
        "plt.ylabel('loss')\n",
        "plt.legend(['train', 'val'])\n",
        "plt.show()"
      ],
      "metadata": {
        "id": "PxZaplusMIU6",
        "colab": {
          "base_uri": "https://localhost:8080/",
          "height": 279
        },
        "outputId": "5a9d155f-e1be-401c-daad-ca8881c27a9e"
      },
      "execution_count": null,
      "outputs": [
        {
          "output_type": "display_data",
          "data": {
            "text/plain": [
              "<Figure size 432x288 with 1 Axes>"
            ],
            "image/png": "[encoded data removed]"
          },
          "metadata": {
            "needs_background": "light"
          }
        }
      ]
    },
    {
      "cell_type": "code",
      "source": [
        "print(train_seq.nbytes, train_oh.nbytes) #토큰 1개를 500차원으로 늘렸기 때문에 크기가 대략 500배 커짐."
      ],
      "metadata": {
        "colab": {
          "base_uri": "https://localhost:8080/"
        },
        "id": "Zlg4MYD7IM-i",
        "outputId": "136601f3-b7f9-431e-ae35-1f3e31a01dd5"
      },
      "execution_count": null,
      "outputs": [
        {
          "output_type": "stream",
          "name": "stdout",
          "text": [
            "8000000 4000000000\n"
          ]
        }
      ]
    },
    {
      "cell_type": "code",
      "source": [
        "model2 = keras.Sequential()\n",
        "model2.add(keras.layers.Embedding(500, 16, input_length=100)) #순환 신경망에서 텍스트를 처리할 때 즐겨 사용하는 방법인 단어 임베딩임. 단어 임베딩으로 만들어진 벡터는 원-핫 인코딩된 벡터보다 훨씬 의미 있는 값으로 채워져 있어 좋은 성능을 내는 경우가 많음. 단어 임베딩의 장점은 입력으로 정수 데이터를 받는 것.\n",
        "model2.add(keras.layers.SimpleRNN(8))\n",
        "model2.add(keras.layers.Dense(1, activation='sigmoid'))\n",
        "rmsprop = keras.optimizers.RMSprop(learning_rate=1e-4)\n",
        "model2.compile(optimizer=rmsprop, loss='binary_crossentropy', metrics=['accuracy'])\n",
        "checkpoint_cb = keras.callbacks.ModelCheckpoint('best-simplernn-model.h5', save_best_only=True)\n",
        "early_stopping_cb = keras.callbacks.EarlyStopping(patience=3, restore_best_weights=True)\n",
        "history = model2.fit(train_seq, train_target, epochs=100, batch_size=64, validation_data=(val_seq, val_target), callbacks=[checkpoint_cb, early_stopping_cb])\n",
        "plt.plot(history.history['loss'])\n",
        "plt.plot(history.history['val_loss'])\n",
        "plt.xlabel('epoch')\n",
        "plt.ylabel('loss')\n",
        "plt.legend(['train', 'val'])\n",
        "plt.show()"
      ],
      "metadata": {
        "id": "MvjkQeLqUSL8",
        "colab": {
          "base_uri": "https://localhost:8080/",
          "height": 922
        },
        "outputId": "36e395eb-e093-404c-ab37-8b5fe381f06c"
      },
      "execution_count": null,
      "outputs": [
        {
          "output_type": "stream",
          "name": "stdout",
          "text": [
            "Epoch 1/100\n",
            "313/313 [==============================] - 8s 22ms/step - loss: 0.6957 - accuracy: 0.5007 - val_loss: 0.6945 - val_accuracy: 0.5004\n",
            "Epoch 2/100\n",
            "313/313 [==============================] - 8s 25ms/step - loss: 0.6921 - accuracy: 0.5222 - val_loss: 0.6934 - val_accuracy: 0.5044\n",
            "Epoch 3/100\n",
            "313/313 [==============================] - 7s 24ms/step - loss: 0.6894 - accuracy: 0.5373 - val_loss: 0.6923 - val_accuracy: 0.5092\n",
            "Epoch 4/100\n",
            "313/313 [==============================] - 7s 23ms/step - loss: 0.6868 - accuracy: 0.5529 - val_loss: 0.6914 - val_accuracy: 0.5164\n",
            "Epoch 5/100\n",
            "313/313 [==============================] - 8s 25ms/step - loss: 0.6841 - accuracy: 0.5641 - val_loss: 0.6906 - val_accuracy: 0.5198\n",
            "Epoch 6/100\n",
            "313/313 [==============================] - 7s 21ms/step - loss: 0.6812 - accuracy: 0.5762 - val_loss: 0.6894 - val_accuracy: 0.5276\n",
            "Epoch 7/100\n",
            "313/313 [==============================] - 8s 26ms/step - loss: 0.6779 - accuracy: 0.5865 - val_loss: 0.6887 - val_accuracy: 0.5380\n",
            "Epoch 8/100\n",
            "313/313 [==============================] - 9s 28ms/step - loss: 0.6744 - accuracy: 0.5935 - val_loss: 0.6877 - val_accuracy: 0.5360\n",
            "Epoch 9/100\n",
            "313/313 [==============================] - 7s 22ms/step - loss: 0.6708 - accuracy: 0.6029 - val_loss: 0.6873 - val_accuracy: 0.5406\n",
            "Epoch 10/100\n",
            "313/313 [==============================] - 8s 25ms/step - loss: 0.6670 - accuracy: 0.6059 - val_loss: 0.6863 - val_accuracy: 0.5448\n",
            "Epoch 11/100\n",
            "313/313 [==============================] - 7s 22ms/step - loss: 0.6632 - accuracy: 0.6146 - val_loss: 0.6856 - val_accuracy: 0.5496\n",
            "Epoch 12/100\n",
            "313/313 [==============================] - 8s 26ms/step - loss: 0.6591 - accuracy: 0.6219 - val_loss: 0.6853 - val_accuracy: 0.5512\n",
            "Epoch 13/100\n",
            "313/313 [==============================] - 7s 22ms/step - loss: 0.6552 - accuracy: 0.6263 - val_loss: 0.6858 - val_accuracy: 0.5534\n",
            "Epoch 14/100\n",
            "313/313 [==============================] - 8s 24ms/step - loss: 0.6511 - accuracy: 0.6315 - val_loss: 0.6849 - val_accuracy: 0.5516\n",
            "Epoch 15/100\n",
            "313/313 [==============================] - 9s 30ms/step - loss: 0.6473 - accuracy: 0.6350 - val_loss: 0.6848 - val_accuracy: 0.5564\n",
            "Epoch 16/100\n",
            "313/313 [==============================] - 7s 21ms/step - loss: 0.6434 - accuracy: 0.6399 - val_loss: 0.6861 - val_accuracy: 0.5582\n",
            "Epoch 17/100\n",
            "313/313 [==============================] - 8s 26ms/step - loss: 0.6397 - accuracy: 0.6452 - val_loss: 0.6860 - val_accuracy: 0.5550\n",
            "Epoch 18/100\n",
            "313/313 [==============================] - 7s 23ms/step - loss: 0.6359 - accuracy: 0.6489 - val_loss: 0.6852 - val_accuracy: 0.5576\n"
          ]
        },
        {
          "output_type": "display_data",
          "data": {
            "text/plain": [
              "<Figure size 432x288 with 1 Axes>"
            ],
            "image/png": "[encoded data removed]"
          },
          "metadata": {
            "needs_background": "light"
          }
        }
      ]
    }
  ]
}